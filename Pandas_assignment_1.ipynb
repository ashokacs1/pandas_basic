{
 "cells": [
  {
   "cell_type": "code",
   "execution_count": 1,
   "id": "f4133726-394f-46dd-91e3-e2bac7f9b4a1",
   "metadata": {},
   "outputs": [
    {
     "name": "stdout",
     "output_type": "stream",
     "text": [
      "0     4\n",
      "1     8\n",
      "2    15\n",
      "3    16\n",
      "4    23\n",
      "5    42\n",
      "dtype: int64\n"
     ]
    }
   ],
   "source": [
    "# Q1. Create a Pandas Series that contains the following data: 4, 8, 15, 16, 23, and 42. Then, print the series.\n",
    "import pandas as pd \n",
    "sa = [ 4, 8, 15, 16, 23, 42]\n",
    "g=pd.Series(sa)\n",
    "print(g)"
   ]
  },
  {
   "cell_type": "markdown",
   "id": "8dce6c2b-c883-4641-b406-9ecaa1115e36",
   "metadata": {},
   "source": [
    "Q2. Create a variable of list type containing 10 elements in it, and apply pandas.Series function on the variable print it."
   ]
  },
  {
   "cell_type": "code",
   "execution_count": 8,
   "id": "b5afd6a2-3bd8-42bb-9873-f0cba330b61f",
   "metadata": {},
   "outputs": [
    {
     "name": "stdout",
     "output_type": "stream",
     "text": [
      "0     1\n",
      "1     2\n",
      "2     3\n",
      "3     4\n",
      "4     5\n",
      "5     6\n",
      "6     7\n",
      "7     8\n",
      "8     9\n",
      "9    10\n",
      "dtype: int64\n"
     ]
    }
   ],
   "source": [
    "list_type = [1,2,3,4,5,6,7,8,9,10]\n",
    "the_series = pd.Series(list_type)\n",
    "\n",
    "print(the_series)"
   ]
  },
  {
   "cell_type": "markdown",
   "id": "8833c08e-fdf0-4c98-8167-217f02b5ca84",
   "metadata": {},
   "source": [
    "Q3. Create a Pandas DataFrame that contains the following data."
   ]
  },
  {
   "cell_type": "code",
   "execution_count": 9,
   "id": "ca472730-b8e5-44dd-b39e-75fe8f0c4c1e",
   "metadata": {},
   "outputs": [
    {
     "name": "stdout",
     "output_type": "stream",
     "text": [
      "     Name  Age  Gender\n",
      "0   Alice   25  female\n",
      "1     Bob   30    male\n",
      "2  Claire   27  female\n"
     ]
    }
   ],
   "source": [
    "data1 = ({ 'Name' : ['Alice','Bob','Claire'],\n",
    "          'Age' : [25,30,27],\n",
    "          'Gender' : ['female','male','female']})\n",
    "data2 = pd.DataFrame(data1)\n",
    "\n",
    "print(data2)\n"
   ]
  },
  {
   "cell_type": "markdown",
   "id": "4da3ebe1-292f-4f53-9430-bbb605bba277",
   "metadata": {},
   "source": [
    "Q4. What is ‘DataFrame’ in pandas and how is it different from pandas.series? Explain with an example."
   ]
  },
  {
   "cell_type": "raw",
   "id": "13966388-d58b-4713-a849-8fb77fa2a5b6",
   "metadata": {},
   "source": [
    "DataFrame:\n",
    "->In Pandas, a DataFrame is a two-dimensional, size-mutable, and potentially heterogeneous tabular data structure with labeled axes (rows and columns). \n",
    "->It is one of the primary data structures in Pandas and is similar to a spreadsheet or SQL table. DataFrames are widely used for data manipulation and analysis in Python. \n",
    "\n",
    "Now, let's discuss the difference between a Pandas DataFrame and a Pandas Series:\n",
    "\n",
    "Pandas DataFrame vs. Pandas Series:\n",
    "\n",
    "Dimensionality:\n",
    "\n",
    "DataFrame: Two-dimensional (rows and columns).\n",
    "Series: One-dimensional (like a single column or row of a DataFrame).\n",
    "\n",
    "Structure:\n",
    "DataFrame: Represents a table of data with rows and columns.\n",
    "Series: Represents a single column or row of data.\n",
    "\n",
    "Accessing Data:\n",
    "DataFrame: You can access specific columns or subsets of rows and columns.\n",
    "Series: Represents data along a single axis (either rows or columns) and is accessed using labels or integer indices.\n",
    "\n",
    "Data Storage:\n",
    "DataFrame: Stores data in a tabular format with multiple columns.\n",
    "Series: Stores data in a one-dimensional format, either as a single column or row."
   ]
  },
  {
   "cell_type": "code",
   "execution_count": 6,
   "id": "6154f399-6177-4752-855e-3eab6a04d569",
   "metadata": {},
   "outputs": [
    {
     "name": "stdout",
     "output_type": "stream",
     "text": [
      "     Name  Age  Gender\n",
      "0   Alice   25  female\n",
      "1     Bob   30    male\n",
      "2  Claire   27  female\n"
     ]
    }
   ],
   "source": [
    "# examples of DataFrame and Series\n",
    "\n",
    "data1 = ({ 'Name' : ['Alice','Bob','Claire'],\n",
    "          'Age' : [25,30,27],\n",
    "          'Gender' : ['female','male','female']})\n",
    "data2 = pd.DataFrame(data1)\n",
    "\n",
    "print(data2)\n"
   ]
  },
  {
   "cell_type": "code",
   "execution_count": 7,
   "id": "77848470-a5f6-41f7-a11f-cde6051a2e05",
   "metadata": {},
   "outputs": [
    {
     "name": "stdout",
     "output_type": "stream",
     "text": [
      "0     4\n",
      "1     8\n",
      "2    15\n",
      "3    16\n",
      "4    23\n",
      "5    42\n",
      "dtype: int64\n"
     ]
    }
   ],
   "source": [
    "# for Series\n",
    "\n",
    "sa = [ 4, 8, 15, 16, 23, 42]\n",
    "g=pd.Series(sa)\n",
    "print(g)"
   ]
  },
  {
   "cell_type": "markdown",
   "id": "0302b782-2f12-4a0f-8fe7-766cd54a5a49",
   "metadata": {},
   "source": [
    "Q5. What are some common functions you can use to manipulate data in a Pandas DataFrame? Can you give an example of when you might use one of these functions?"
   ]
  },
  {
   "cell_type": "raw",
   "id": "dec6309f-3e0b-4007-901e-5d78a036e74a",
   "metadata": {},
   "source": [
    "Pandas provides a wide range of functions and methods to manipulate data in a DataFrame.\n",
    "\n",
    "1)Viewing Data:\n",
    "head(): Displays the first n rows of the DataFrame.\n",
    "tail(): Displays the last n rows of the DataFrame.\n",
    "\n",
    "2)Selection and Indexing:\n",
    "loc[] and iloc[]: Allows you to select rows and columns by label (loc) or integer position (iloc).\n",
    "\n",
    "\n",
    "3)Filtering Data:\n",
    "query(): Allows you to filter rows based on a query expression.\n",
    "boolean indexing: Filters rows based on conditions using boolean expressions.\n",
    "\n",
    "4)Sorting Data:\n",
    "sort_values(): Sorts the DataFrame based on one or more columns.\n",
    "\n",
    "\n",
    "Data Cleaning:\n",
    "fillna(): Replaces missing values with a specified value.\n",
    "drop(): Removes rows or columns from the DataFrame."
   ]
  },
  {
   "cell_type": "markdown",
   "id": "44ff1b07-f52d-4734-8fc8-ea6e9bd5e78b",
   "metadata": {},
   "source": [
    "Q6. Which of the following is mutable in nature Series, DataFrame, Panel?"
   ]
  },
  {
   "cell_type": "raw",
   "id": "e0f84796-d33e-4820-9448-7ace7a806990",
   "metadata": {},
   "source": [
    "In Pandas, both Series and DataFrame are mutable in nature, while Panel is deprecated and no longer part of the main Pandas library as of version 0.25.0.\n",
    "\n",
    "Here's a simple explanation:\n",
    "\n",
    "Series: A Pandas Series is mutable, which means you can modify its elements, change its values, and add or remove elements after it's created. For example, you can change the value of a specific element in a Series or append new values to it.\n",
    "\n",
    "DataFrame: A Pandas DataFrame is also mutable. You can add, remove, or modify columns, rows, or individual cell values within a DataFrame. This makes DataFrames a versatile data structure for data manipulation and analysis.\n",
    "\n",
    "Panel:A Panel in Pandas was a three-dimensional data structure that was used for handling data. It was essentially a container for holding multiple DataFrames with a common index. However, Panels have been deprecated in recent versions of Pandas (as of version 0.25.0) because they were found to be less commonly used and less intuitive than Series and DataFrames."
   ]
  },
  {
   "cell_type": "markdown",
   "id": "67a2b8e0-cd7c-4ac1-9221-5032ef091526",
   "metadata": {},
   "source": [
    "Q7 Create a DataFrame using multiple Series. Explain with an example."
   ]
  },
  {
   "cell_type": "markdown",
   "id": "c36a1e32-6892-405a-836c-5f31e48e1ae2",
   "metadata": {},
   "source": [
    "we can create a DataFrame using multiple Series by combining these Series into a dictionary and then converting the dictionary into a DataFrame. Each Series will become a column in the resulting DataFrame, and they should have the same length to align properly. the example is"
   ]
  },
  {
   "cell_type": "code",
   "execution_count": 11,
   "id": "85530d0d-0ec7-46c0-8ddf-e2de839e2efa",
   "metadata": {},
   "outputs": [
    {
     "name": "stdout",
     "output_type": "stream",
     "text": [
      "     Name  Age  Gender\n",
      "0   Alice   25  Female\n",
      "1     Bob   30    Male\n",
      "2  Claire   27  Female\n"
     ]
    }
   ],
   "source": [
    "import pandas as pd\n",
    "\n",
    "# Creating multiple Series\n",
    "name_series = pd.Series(['Alice', 'Bob', 'Claire'])\n",
    "age_series = pd.Series([25, 30, 27])\n",
    "gender_series = pd.Series(['Female', 'Male', 'Female'])\n",
    "\n",
    "# Combining the Series into a dictionary\n",
    "data = {\n",
    "    'Name': name_series,\n",
    "    'Age': age_series,\n",
    "    'Gender': gender_series\n",
    "}\n",
    "\n",
    "# Creating a DataFrame from the dictionary\n",
    "df = pd.DataFrame(data)\n",
    "\n",
    "# Printing the resulting DataFrame\n",
    "print(df)\n"
   ]
  },
  {
   "cell_type": "markdown",
   "id": "3c853dd1-2aca-4fd0-8b78-09058d5652a3",
   "metadata": {},
   "source": [
    "explanation for the example"
   ]
  },
  {
   "cell_type": "raw",
   "id": "37aeb3f6-039e-4bd0-85bc-c385f49dec31",
   "metadata": {},
   "source": [
    "1)We create three separate Series: name_series, age_series, and gender_series.\n",
    "\n",
    "2)We then combine these Series into a dictionary called data, where each Series is associated with a column name.\n",
    "\n",
    "3)Finally, we use the pd.DataFrame() constructor to create a DataFrame df from the dictionary."
   ]
  }
 ],
 "metadata": {
  "kernelspec": {
   "display_name": "Python 3 (ipykernel)",
   "language": "python",
   "name": "python3"
  },
  "language_info": {
   "codemirror_mode": {
    "name": "ipython",
    "version": 3
   },
   "file_extension": ".py",
   "mimetype": "text/x-python",
   "name": "python",
   "nbconvert_exporter": "python",
   "pygments_lexer": "ipython3",
   "version": "3.10.8"
  }
 },
 "nbformat": 4,
 "nbformat_minor": 5
}
